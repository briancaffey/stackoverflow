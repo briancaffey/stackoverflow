{
 "cells": [
  {
   "cell_type": "code",
   "execution_count": 26,
   "metadata": {
    "collapsed": true
   },
   "outputs": [],
   "source": [
    "import json\n",
    "import datetime\n",
    "import pandas as pd\n",
    "import matplotlib.pyplot as plt\n",
    "%matplotlib inline\n",
    "data = json.dumps({\n",
    "    \"success\":True,\n",
    "        \"data\":[\n",
    "            {\n",
    "\n",
    "                \"record_id\":258585618,\n",
    "                \"timestamp\":\"2018-01-21 22:34:34\",\n",
    "                \"bytes\":29466,\n",
    "\n",
    "            }\n",
    "            ,\n",
    "            {\n",
    "                \"record_id\":258585604,\n",
    "                \"timestamp\":\"2018-01-21 22:33:14\",\n",
    "                \"bytes\":37892,\n",
    "            }\n",
    "            ,\n",
    "            {\n",
    "                \"record_id\":258584399,\n",
    "                \"timestamp\":\"2018-01-21 22:37:40\",\n",
    "                \"bytes\":36396,\n",
    "            }\n",
    "        ]\n",
    "    })\n",
    "\n",
    "data = json.loads(data)\n",
    "dates = [i['timestamp'] for i in data[\"data\"]]\n",
    "values = [i['bytes'] for i in data['data']]\n",
    "\n",
    "df = pd.DataFrame({'dates':dates, 'values':values})\n",
    "df['dates']  = [pd.to_datetime(i) for i in df['dates']]"
   ]
  },
  {
   "cell_type": "code",
   "execution_count": 35,
   "metadata": {},
   "outputs": [
    {
     "name": "stdout",
     "output_type": "stream",
     "text": [
      "                dates  values\n",
      "1 2018-01-21 22:33:14   37892\n",
      "0 2018-01-21 22:34:34   29466\n",
      "2 2018-01-21 22:37:40   36396\n"
     ]
    }
   ],
   "source": [
    "print(df.sort_values(by='dates'))"
   ]
  },
  {
   "cell_type": "code",
   "execution_count": 33,
   "metadata": {},
   "outputs": [
    {
     "data": {
      "text/plain": [
       "<Container object of 3 artists>"
      ]
     },
     "execution_count": 33,
     "metadata": {},
     "output_type": "execute_result"
    },
    {
     "data": {
      "image/png": "[encoded data removed]",
      "text/plain": [
       "<matplotlib.figure.Figure at 0x7f604036a668>"
      ]
     },
     "metadata": {},
     "output_type": "display_data"
    }
   ],
   "source": [
    "plt.bar(dates, values)"
   ]
  }
 ],
 "metadata": {
  "kernelspec": {
   "display_name": "Python 3",
   "language": "python",
   "name": "python3"
  },
  "language_info": {
   "codemirror_mode": {
    "name": "ipython",
    "version": 3
   },
   "file_extension": ".py",
   "mimetype": "text/x-python",
   "name": "python",
   "nbconvert_exporter": "python",
   "pygments_lexer": "ipython3",
   "version": "3.6.3"
  }
 },
 "nbformat": 4,
 "nbformat_minor": 2
}
