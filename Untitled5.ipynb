{
 "cells": [
  {
   "cell_type": "code",
   "execution_count": 1,
   "metadata": {
    "collapsed": true
   },
   "outputs": [],
   "source": [
    "value1 = ['name1', 'name2', 'name3', 'name4']\n",
    "value2 = ['6.0',  '8.5', '7.0', '9.5']\n",
    "value3 = [500, 600, 900, 750]\n",
    "value4 = ['$$','$$$','$', '$$']\n",
    "\n",
    "\n",
    "results = [{'name':name, 'rate':rate, 'rev':rev, 'amount':amount} for name, rate, rev, amount in zip(value1, value2, value3, value4)]\n"
   ]
  },
  {
   "cell_type": "code",
   "execution_count": null,
   "metadata": {
    "collapsed": true
   },
   "outputs": [],
   "source": [
    "  [ {'name':name1, 'rate':'6.0', 'rev':500, 'amount':'$$'},  \n",
    "    {'name':name2, 'rate':'8.5', 'rev':600, 'amount':'$$$'},  \n",
    "    {'name':name3, 'rate':'7.0', 'rev':900, 'amount':'$'},  \n",
    "    {'name':name4, 'rate':'9.5', 'rev':750, 'amount':'$$'} ]\n",
    "    \n",
    "results = [{'name':name, 'rate':rate, 'rev':rev, 'amount':amount} for name, rate, rev, amount in zip(value1, value2, value3, value4)]\n"
   ]
  },
  {
   "cell_type": "code",
   "execution_count": 2,
   "metadata": {
    "collapsed": true
   },
   "outputs": [],
   "source": [
    "results = [{'name':name, 'rate':rate, 'rev':rev, 'amount':amount} for name, rate, rev, amount in zip(value1, value2, value3, value4)]\n"
   ]
  },
  {
   "cell_type": "code",
   "execution_count": 3,
   "metadata": {},
   "outputs": [
    {
     "data": {
      "text/plain": [
       "[{'amount': '$$', 'name': 'name1', 'rate': '6.0', 'rev': 500},\n",
       " {'amount': '$$$', 'name': 'name2', 'rate': '8.5', 'rev': 600},\n",
       " {'amount': '$', 'name': 'name3', 'rate': '7.0', 'rev': 900},\n",
       " {'amount': '$$', 'name': 'name4', 'rate': '9.5', 'rev': 750}]"
      ]
     },
     "execution_count": 3,
     "metadata": {},
     "output_type": "execute_result"
    }
   ],
   "source": [
    "results"
   ]
  },
  {
   "cell_type": "code",
   "execution_count": null,
   "metadata": {
    "collapsed": true
   },
   "outputs": [],
   "source": []
  }
 ],
 "metadata": {
  "kernelspec": {
   "display_name": "Python 3",
   "language": "python",
   "name": "python3"
  },
  "language_info": {
   "codemirror_mode": {
    "name": "ipython",
    "version": 3
   },
   "file_extension": ".py",
   "mimetype": "text/x-python",
   "name": "python",
   "nbconvert_exporter": "python",
   "pygments_lexer": "ipython3",
   "version": "3.6.3"
  }
 },
 "nbformat": 4,
 "nbformat_minor": 2
}
