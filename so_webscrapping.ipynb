{
 "cells": [
  {
   "cell_type": "code",
   "execution_count": 19,
   "metadata": {},
   "outputs": [
    {
     "name": "stdout",
     "output_type": "stream",
     "text": [
      "Song: song\n",
      "Artist: artist\n",
      "Album: album\n"
     ]
    }
   ],
   "source": [
    "from bs4 import BeautifulSoup\n",
    "b = BeautifulSoup(html, 'lxml')\n",
    "\n",
    "html = \"\"\"<td class=\"subject\">\n",
    "    <p title=\"song\">song</p>\n",
    "    <p class=\"singer\" title=\"artist | album\">artist<span class=\"bar\">|</span>album</p>\n",
    "</td>\"\"\"\n",
    "\n",
    "tds = b.find_all('td')\n",
    "data = tds[0]\n",
    "\n",
    "t = data.text.split('\\n')\n",
    "song = t[1]\n",
    "artist_album = t[2].split('|')\n",
    "artist = artist_album[0]\n",
    "album = artist_album[1]\n",
    "print(\"Song:\", song)\n",
    "print(\"Artist:\", artist)\n",
    "print(\"Album:\", album)"
   ]
  }
 ],
 "metadata": {
  "kernelspec": {
   "display_name": "Python 3",
   "language": "python",
   "name": "python3"
  },
  "language_info": {
   "codemirror_mode": {
    "name": "ipython",
    "version": 3
   },
   "file_extension": ".py",
   "mimetype": "text/x-python",
   "name": "python",
   "nbconvert_exporter": "python",
   "pygments_lexer": "ipython3",
   "version": "3.6.3"
  }
 },
 "nbformat": 4,
 "nbformat_minor": 2
}
