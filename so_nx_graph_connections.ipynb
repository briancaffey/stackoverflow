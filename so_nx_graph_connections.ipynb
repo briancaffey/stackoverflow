{
 "cells": [
  {
   "cell_type": "code",
   "execution_count": 62,
   "metadata": {},
   "outputs": [
    {
     "name": "stdout",
     "output_type": "stream",
     "text": [
      "(1, 1) :  True\n",
      "(2, 2) :  True\n",
      "(3, 3) :  True\n",
      "(4, 4) :  True\n",
      "(5, 5) :  False\n"
     ]
    }
   ],
   "source": [
    "import networkx as nx\n",
    "\n",
    "graph={\n",
    "    (1,1): [(1,2),(2,2)],\n",
    "    (1,2): [(1,3)],\n",
    "    (1,3): [(1,2),(2,3)],\n",
    "    (2,2): [(3,3)],\n",
    "    (3,3): [(2,2)],\n",
    "    (4,4): [(1,3)],\n",
    "    (5,5): []\n",
    "}\n",
    "\n",
    "G = nx.Graph(graph)\n",
    "nodes = G.nodes()\n",
    "balanced_nodes = [node for node in G.nodes() if node[0] == node[1]]\n",
    "unbalanced_nodes = [node for node in G.nodes() if node[0] != node[1]]\n",
    "for balanced_node in balanced_nodes:\n",
    "    for unbalanced_node in unbalanced_nodes:\n",
    "        connected = True\n",
    "        try:\n",
    "            path = nx.shortest_path(G,balanced_node, unbalanced_node)\n",
    "        except:\n",
    "            connected = False\n",
    "            break\n",
    "    print(balanced_node, \": \", connected)"
   ]
  }
 ],
 "metadata": {
  "kernelspec": {
   "display_name": "Python 3",
   "language": "python",
   "name": "python3"
  },
  "language_info": {
   "codemirror_mode": {
    "name": "ipython",
    "version": 3
   },
   "file_extension": ".py",
   "mimetype": "text/x-python",
   "name": "python",
   "nbconvert_exporter": "python",
   "pygments_lexer": "ipython3",
   "version": "3.6.3"
  }
 },
 "nbformat": 4,
 "nbformat_minor": 2
}
