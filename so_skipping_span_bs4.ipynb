{
 "cells": [
  {
   "cell_type": "code",
   "execution_count": 34,
   "metadata": {},
   "outputs": [
    {
     "name": "stdout",
     "output_type": "stream",
     "text": [
      "item name goes here\n"
     ]
    }
   ],
   "source": [
    "from bs4 import BeautifulSoup\n",
    "html= \"\"\"<h1 class=\"it-ttl\" id=\"itemTitle\" itemprop=\"name\"><span class=\"g-hdn\">Details about   </span>item name goes here</h1>\"\"\"\n",
    "soup = BeautifulSoup(html, \"lxml\")\n",
    "text = soup.find('h1', attrs={\"id\":\"itemTitle\"}).text\n",
    "span = soup.find('span', attrs={\"class\":\"g-hdn\"}).text\n",
    "final_text = text[len(span):]\n",
    "print(final_text)"
   ]
  }
 ],
 "metadata": {
  "kernelspec": {
   "display_name": "Python 3",
   "language": "python",
   "name": "python3"
  },
  "language_info": {
   "codemirror_mode": {
    "name": "ipython",
    "version": 3
   },
   "file_extension": ".py",
   "mimetype": "text/x-python",
   "name": "python",
   "nbconvert_exporter": "python",
   "pygments_lexer": "ipython3",
   "version": "3.6.3"
  }
 },
 "nbformat": 4,
 "nbformat_minor": 2
}
