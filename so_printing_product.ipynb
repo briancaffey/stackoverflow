{
 "cells": [
  {
   "cell_type": "code",
   "execution_count": 61,
   "metadata": {},
   "outputs": [
    {
     "name": "stdout",
     "output_type": "stream",
     "text": [
      "DDDD\n",
      "DDDE\n",
      "DDED\n",
      "DDEE\n",
      "DEDD\n",
      "DEDE\n",
      "DEED\n",
      "DEEE\n",
      "EDDD\n",
      "EDDE\n",
      "EDED\n",
      "EDEE\n",
      "EEDD\n",
      "EEDE\n",
      "EEED\n",
      "EEEE\n"
     ]
    }
   ],
   "source": [
    "from itertools import product\n",
    "x = product(['D', 'E'], repeat=4)\n",
    "for word in [\"\".join(x) for x in list(x)]: print(word)"
   ]
  },
  {
   "cell_type": "code",
   "execution_count": null,
   "metadata": {
    "collapsed": true
   },
   "outputs": [],
   "source": []
  }
 ],
 "metadata": {
  "kernelspec": {
   "display_name": "Python 3",
   "language": "python",
   "name": "python3"
  },
  "language_info": {
   "codemirror_mode": {
    "name": "ipython",
    "version": 3
   },
   "file_extension": ".py",
   "mimetype": "text/x-python",
   "name": "python",
   "nbconvert_exporter": "python",
   "pygments_lexer": "ipython3",
   "version": "3.6.3"
  }
 },
 "nbformat": 4,
 "nbformat_minor": 2
}
