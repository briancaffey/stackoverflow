{
 "cells": [
  {
   "cell_type": "code",
   "execution_count": 16,
   "metadata": {
    "collapsed": true
   },
   "outputs": [],
   "source": [
    "from bs4 import BeautifulSoup"
   ]
  },
  {
   "cell_type": "code",
   "execution_count": 13,
   "metadata": {
    "collapsed": true
   },
   "outputs": [],
   "source": [
    "html = \"\"\"<ul class=\"date-list infos\">\n",
    " <li>\n",
    "    <div class=\"date-list--time\">1 min</div>\n",
    "    <div class=\"date-list--extras\"></div>\n",
    " </li>\n",
    " <li>\n",
    "   <div class=\"date-list--time\">30 min</div>\n",
    "   <div class=\"date-list--extras\"></div>\n",
    " </li>\n",
    "</ul>\n",
    "\"\"\""
   ]
  },
  {
   "cell_type": "code",
   "execution_count": 19,
   "metadata": {
    "collapsed": true
   },
   "outputs": [],
   "source": [
    "soup = BeautifulSoup(html, 'lxml')"
   ]
  },
  {
   "cell_type": "code",
   "execution_count": 20,
   "metadata": {},
   "outputs": [
    {
     "data": {
      "text/plain": [
       "<html><body><ul class=\"date-list infos\">\n",
       "<li>\n",
       "<div class=\"date-list--time\">1 min</div>\n",
       "<div class=\"date-list--extras\"></div>\n",
       "</li>\n",
       "<li>\n",
       "<div class=\"date-list--time\">30 min</div>\n",
       "<div class=\"date-list--extras\"></div>\n",
       "</li>\n",
       "</ul>\n",
       "</body></html>"
      ]
     },
     "execution_count": 20,
     "metadata": {},
     "output_type": "execute_result"
    }
   ],
   "source": [
    "soup"
   ]
  },
  {
   "cell_type": "code",
   "execution_count": 21,
   "metadata": {
    "collapsed": true
   },
   "outputs": [],
   "source": [
    "time_passage = soup.find('div', attrs={'class': \"date-list--time\"})"
   ]
  },
  {
   "cell_type": "code",
   "execution_count": 22,
   "metadata": {},
   "outputs": [
    {
     "data": {
      "text/plain": [
       "<div class=\"date-list--time\">1 min</div>"
      ]
     },
     "execution_count": 22,
     "metadata": {},
     "output_type": "execute_result"
    }
   ],
   "source": [
    "time_passage"
   ]
  },
  {
   "cell_type": "code",
   "execution_count": 23,
   "metadata": {},
   "outputs": [
    {
     "name": "stdout",
     "output_type": "stream",
     "text": [
      "Mixed types\n",
      "9.0\n"
     ]
    }
   ],
   "source": [
    "a = [\"cats\",4,\"n\",2.0,\"the\",3,\"house\"]\n",
    "if len(set([type(i) for i in a])) > 1:\n",
    "    print(\"Mixed types\")\n",
    "total = sum([i for i in a if type(i)==int or type(i)==float])\n",
    "print(total)\n"
   ]
  },
  {
   "cell_type": "code",
   "execution_count": null,
   "metadata": {
    "collapsed": true
   },
   "outputs": [],
   "source": []
  }
 ],
 "metadata": {
  "kernelspec": {
   "display_name": "Python 3",
   "language": "python",
   "name": "python3"
  },
  "language_info": {
   "codemirror_mode": {
    "name": "ipython",
    "version": 3
   },
   "file_extension": ".py",
   "mimetype": "text/x-python",
   "name": "python",
   "nbconvert_exporter": "python",
   "pygments_lexer": "ipython3",
   "version": "3.6.3"
  }
 },
 "nbformat": 4,
 "nbformat_minor": 2
}
