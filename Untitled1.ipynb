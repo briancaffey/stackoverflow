{
 "cells": [
  {
   "cell_type": "code",
   "execution_count": 62,
   "metadata": {
    "collapsed": true
   },
   "outputs": [],
   "source": [
    "from itertools import combinations\n",
    "def f(n):\n",
    "    s = set([i+1 for i in range(n)])\n",
    "    valid_partitions = []\n",
    "    for i in range(1,n):\n",
    "        combos = combinations(s,i)\n",
    "        for c in combos:\n",
    "            p1 = frozenset(c)\n",
    "            p2 = set(range(1,n+1)) - p1\n",
    "            p2 = frozenset(p2)\n",
    "            if sum(p1) == sum(p2):\n",
    "                valid_partitions.append(frozenset((p1,p2)))\n",
    "\n",
    "    return len(set(valid_partitions))"
   ]
  },
  {
   "cell_type": "code",
   "execution_count": 64,
   "metadata": {},
   "outputs": [
    {
     "name": "stdout",
     "output_type": "stream",
     "text": [
      "15\n",
      "105\n",
      "455\n",
      "1365\n",
      "3003\n",
      "5005\n",
      "6435\n",
      "6435\n",
      "5005\n",
      "3003\n",
      "1365\n",
      "455\n",
      "105\n",
      "15\n"
     ]
    },
    {
     "data": {
      "text/plain": [
       "0"
      ]
     },
     "execution_count": 64,
     "metadata": {},
     "output_type": "execute_result"
    }
   ],
   "source": [
    "f(15)"
   ]
  },
  {
   "cell_type": "code",
   "execution_count": null,
   "metadata": {
    "collapsed": true
   },
   "outputs": [],
   "source": []
  }
 ],
 "metadata": {
  "kernelspec": {
   "display_name": "Python 3",
   "language": "python",
   "name": "python3"
  },
  "language_info": {
   "codemirror_mode": {
    "name": "ipython",
    "version": 3
   },
   "file_extension": ".py",
   "mimetype": "text/x-python",
   "name": "python",
   "nbconvert_exporter": "python",
   "pygments_lexer": "ipython3",
   "version": "3.6.3"
  }
 },
 "nbformat": 4,
 "nbformat_minor": 2
}
