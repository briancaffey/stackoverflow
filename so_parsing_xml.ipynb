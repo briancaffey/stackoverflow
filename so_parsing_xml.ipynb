{
 "cells": [
  {
   "cell_type": "code",
   "execution_count": 13,
   "metadata": {},
   "outputs": [
    {
     "name": "stdout",
     "output_type": "stream",
     "text": [
      "Tag: bill Attrib: bill\n",
      "Tag: bill.jones@mail.com Attrib: bill.jones@mail.com\n",
      "Tag: 555-000-555 Attrib: 555-000-555\n"
     ]
    }
   ],
   "source": [
    "xml = \"\"\"<Details>\n",
    "    <Attrib name=\"Name\">bill</Attrib>\n",
    "    <Attrib name=\"Email\">bill.jones@mail.com</Attrib>\n",
    "    <Attrib name=\"Phone\">555-000-555</Attrib>\n",
    "</Details>\"\"\"\n",
    "\n",
    "f = open('file.xml', 'w+')\n",
    "f.write(xml)\n",
    "f.close()\n",
    "\n",
    "import xml.etree.ElementTree as ET\n",
    "tree = ET.parse('file.xml')\n",
    "root = tree.getroot()\n",
    "for child in root:\n",
    "    print(\"Tag: {0} Attrib: {1}\".format(child.text, child.text))\n",
    "\n"
   ]
  },
  {
   "cell_type": "code",
   "execution_count": null,
   "metadata": {
    "collapsed": true
   },
   "outputs": [],
   "source": []
  }
 ],
 "metadata": {
  "kernelspec": {
   "display_name": "Python 3",
   "language": "python",
   "name": "python3"
  },
  "language_info": {
   "codemirror_mode": {
    "name": "ipython",
    "version": 3
   },
   "file_extension": ".py",
   "mimetype": "text/x-python",
   "name": "python",
   "nbconvert_exporter": "python",
   "pygments_lexer": "ipython3",
   "version": "3.6.3"
  }
 },
 "nbformat": 4,
 "nbformat_minor": 2
}
