{
 "cells": [
  {
   "cell_type": "code",
   "execution_count": 23,
   "metadata": {},
   "outputs": [],
   "source": [
    "import requests\n",
    "from bs4 import BeautifulSoup\n",
    "import pandas as pd\n",
    "import csv\n",
    "empty_list = []\n",
    "for i in range (1,19):\n",
    "    url = requests.get(\"https://www.foxsports.com/nhl/stats?season=2017&category=SCORING&group=1&sort=3&time=0&pos=0&team=0&qual=1&sortOrder=0&page={}\".format(i))\n",
    "    if not url.ok:\n",
    "        continue\n",
    "    data = url.text\n",
    "    soup = BeautifulSoup(data, 'lxml')\n",
    "    table = soup.find('table', {'class' : 'wisbb_standardTable'})\n",
    "    player = table.find_all('a', {'class':'wisbb_fullPlayer'})\n",
    "    team = table.find_all('span',{'class':'wisbb_tableAbbrevLink'})\n",
    "    player_team_data = [{\"player\":p.text.split('\\n')[1], \"team\":t.text.strip('\\n')} for p,t in zip(player,team)]\n",
    "    for p in player_team_data:\n",
    "        empty_list.append(p)\n",
    "df = pd.DataFrame(empty_list, columns=[\"player\", \"team\"])"
   ]
  },
  {
   "cell_type": "code",
   "execution_count": 25,
   "metadata": {},
   "outputs": [
    {
     "data": {
      "text/plain": [
       "(900, 2)"
      ]
     },
     "execution_count": 25,
     "metadata": {},
     "output_type": "execute_result"
    }
   ],
   "source": [
    "df.shape"
   ]
  },
  {
   "cell_type": "code",
   "execution_count": null,
   "metadata": {
    "collapsed": true
   },
   "outputs": [],
   "source": []
  }
 ],
 "metadata": {
  "kernelspec": {
   "display_name": "Python 3",
   "language": "python",
   "name": "python3"
  },
  "language_info": {
   "codemirror_mode": {
    "name": "ipython",
    "version": 3
   },
   "file_extension": ".py",
   "mimetype": "text/x-python",
   "name": "python",
   "nbconvert_exporter": "python",
   "pygments_lexer": "ipython3",
   "version": "3.6.3"
  }
 },
 "nbformat": 4,
 "nbformat_minor": 2
}
