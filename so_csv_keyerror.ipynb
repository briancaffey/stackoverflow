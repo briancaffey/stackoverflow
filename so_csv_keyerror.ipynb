{
 "cells": [
  {
   "cell_type": "code",
   "execution_count": 25,
   "metadata": {},
   "outputs": [
    {
     "name": "stdout",
     "output_type": "stream",
     "text": [
      "OrderedDict([('website', 'google.com'), ('username', 'test1'), ('password', 'lamepass')])\n",
      "OrderedDict([('website', 'instagram.com'), ('username', 'test2'), ('password', 'passlame')])\n"
     ]
    }
   ],
   "source": [
    "csv = \"\"\"website, username, password\n",
    "google.com, test1, lamepass\n",
    "instagram.com, test2, passlame\"\"\"\n",
    "\n",
    "csv = csv.replace(\", \", \",\")\n",
    "\n",
    "with open('file.csv', 'w+') as f:\n",
    "    f.write(csv)\n",
    "\n",
    "import csv\n",
    "\n",
    "with open('file.csv', 'r+') as database:\n",
    "    csv_read = csv.DictReader(database)\n",
    "    for card in csv_read:\n",
    "        print(card)\n"
   ]
  },
  {
   "cell_type": "code",
   "execution_count": null,
   "metadata": {
    "collapsed": true
   },
   "outputs": [],
   "source": []
  }
 ],
 "metadata": {
  "kernelspec": {
   "display_name": "Python 3",
   "language": "python",
   "name": "python3"
  },
  "language_info": {
   "codemirror_mode": {
    "name": "ipython",
    "version": 3
   },
   "file_extension": ".py",
   "mimetype": "text/x-python",
   "name": "python",
   "nbconvert_exporter": "python",
   "pygments_lexer": "ipython3",
   "version": "3.6.3"
  }
 },
 "nbformat": 4,
 "nbformat_minor": 2
}
