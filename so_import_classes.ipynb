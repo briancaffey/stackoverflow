{
 "cells": [
  {
   "cell_type": "code",
   "execution_count": 2,
   "metadata": {},
   "outputs": [],
   "source": [
    "class Document:\n",
    "    def __init__(self):\n",
    "        self.characters = []\n",
    "        self.cursor = Cursor(self)\n",
    "        self.filename = ''\n",
    "\n",
    "    def insert(self, character):\n",
    "        if not hasattr(character, 'character'):\n",
    "            character = Character(character)\n",
    "        self.characters.insert(self.cursor.position, character)\n",
    "        self.cursor += 1\n",
    "\n",
    "    def delete(self):\n",
    "        del self.characters[self.cursor.position]\n",
    "\n",
    "    def save(self):\n",
    "        f = open(self.filename, 'w')\n",
    "        f.write(''.join(self.characters))\n",
    "        f.close()\n",
    "\n",
    "class Cursor:\n",
    "    def __init__(self, document):\n",
    "        self.document = document\n",
    "        self.position = 0\n",
    "\n",
    "    def forward(self):\n",
    "        self.position += 1\n",
    "\n",
    "    def back(self):\n",
    "        self.position -= 1\n",
    "\n",
    "    def home(self):\n",
    "        while self.document.characters[self.position-1] != '\\n':\n",
    "            self.position -= 1\n",
    "            if self.position == 0:\n",
    "                # Got to beginning of file before newline\n",
    "                pass\n",
    "            break\n",
    "\n",
    "class Character:\n",
    "    def __init__(self, character, bold=False, italic=False,\n",
    "             underline=False):\n",
    "        assert len(character) == 1\n",
    "        self.character = character\n",
    "        self.bold = bold\n",
    "        self.italic = italic\n",
    "        self.underline = underline"
   ]
  },
  {
   "cell_type": "code",
   "execution_count": null,
   "metadata": {
    "collapsed": true
   },
   "outputs": [],
   "source": []
  }
 ],
 "metadata": {
  "kernelspec": {
   "display_name": "Python 3",
   "language": "python",
   "name": "python3"
  },
  "language_info": {
   "codemirror_mode": {
    "name": "ipython",
    "version": 3
   },
   "file_extension": ".py",
   "mimetype": "text/x-python",
   "name": "python",
   "nbconvert_exporter": "python",
   "pygments_lexer": "ipython3",
   "version": "3.6.3"
  }
 },
 "nbformat": 4,
 "nbformat_minor": 2
}
