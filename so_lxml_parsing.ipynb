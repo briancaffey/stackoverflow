{
 "cells": [
  {
   "cell_type": "code",
   "execution_count": 19,
   "metadata": {},
   "outputs": [
    {
     "name": "stdout",
     "output_type": "stream",
     "text": [
      "  End Date Event Start Date\n",
      "0        c     a          b\n",
      "1        f     d          e\n",
      "2        i     g          h\n"
     ]
    }
   ],
   "source": [
    "from bs4 import BeautifulSoup\n",
    "import pandas as pd\n",
    "\n",
    "s = \"\"\"<table>\n",
    "  <tr><th>Event</th><th>Start Date</th><th>End Date</th></tr>\n",
    "  <tr><td>a</td><td>b</td><td>c</td></tr>\n",
    "  <tr><td><code>d</code></td><td>e</td><td>f</td></tr>\n",
    "  <tr><td>g</td><td>h</td><td>i</td></tr>\n",
    "</table>\n",
    "\"\"\"\n",
    "\n",
    "soup = BeautifulSoup(s, 'lxml')\n",
    "\n",
    "headers = [h.text for h in soup.find_all('th')]\n",
    "rows = soup.find_all('tr')[1:]\n",
    "\n",
    "dic_list = []\n",
    "for row in rows:\n",
    "    data = [i.text for i in row]\n",
    "    dic = {k:v for k,v in zip(headers, data)}\n",
    "    dic_list.append(dic)\n",
    "    \n",
    "df = pd.DataFrame(dic_list)\n",
    "print(df)\n"
   ]
  },
  {
   "cell_type": "code",
   "execution_count": null,
   "metadata": {
    "collapsed": true
   },
   "outputs": [],
   "source": []
  }
 ],
 "metadata": {
  "kernelspec": {
   "display_name": "Python 3",
   "language": "python",
   "name": "python3"
  },
  "language_info": {
   "codemirror_mode": {
    "name": "ipython",
    "version": 3
   },
   "file_extension": ".py",
   "mimetype": "text/x-python",
   "name": "python",
   "nbconvert_exporter": "python",
   "pygments_lexer": "ipython3",
   "version": "3.6.3"
  }
 },
 "nbformat": 4,
 "nbformat_minor": 2
}
