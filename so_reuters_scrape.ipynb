{
 "cells": [
  {
   "cell_type": "code",
   "execution_count": 1,
   "metadata": {},
   "outputs": [
    {
     "name": "stdout",
     "output_type": "stream",
     "text": [
      "getting page number 1\n",
      "getting page number 2\n",
      "getting page number 3\n",
      "getting page number 4\n",
      "getting page number 5\n",
      "getting page number 6\n",
      "getting page number 7\n",
      "getting page number 8\n",
      "getting page number 9\n",
      "getting page number 10\n"
     ]
    }
   ],
   "source": [
    "from selenium import webdriver\n",
    "import time\n",
    "from bs4 import BeautifulSoup\n",
    "\n",
    "url = \"https://www.reuters.com/search/news?blob=soybean&sortBy=date&dateRange=all\"\n",
    "driver = webdriver.PhantomJS()\n",
    "driver.get(url)\n",
    "html = driver.page_source.encode('utf-8')\n",
    "page_num = 0\n",
    "\n",
    "while page_num < 10:\n",
    "    driver.find_element_by_css_selector('.search-result-more-txt').click()\n",
    "    page_num += 1\n",
    "    print(\"getting page number \"+str(page_num))\n",
    "    time.sleep(1)\n",
    "    \n",
    "html = driver.page_source.encode('utf-8')"
   ]
  },
  {
   "cell_type": "code",
   "execution_count": 18,
   "metadata": {},
   "outputs": [],
   "source": [
    "soup = BeautifulSoup(html, 'lxml')\n",
    "links = soup.find_all('div', attrs={\"class\":'search-result-indiv'})\n",
    "articles = [a.find('a')['href'] for a in links if a != '']"
   ]
  },
  {
   "cell_type": "code",
   "execution_count": 19,
   "metadata": {},
   "outputs": [
    {
     "data": {
      "text/plain": [
       "['/article/us-eu-indonesia-biodiesel/wto-rules-eu-must-change-duties-on-indonesia-biodiesel-idUSKBN1FE27D',\n",
       " '/article/eu-indonesia-biodiesel/update-2-wto-rules-eu-must-change-duties-on-indonesia-biodiesel-idUSL8N1PK606',\n",
       " '/article/us-usa-soybeans-protein-insight/protein-plight-brazil-steals-u-s-soybean-share-in-china-idUSKBN1FE0FM',\n",
       " '/article/eu-argentina-biodiesel/refile-eu-set-to-launch-subsidy-inquiry-into-argentine-biodiesel-idUSL8N1PK220',\n",
       " '/article/us-bunge-m-a-archer-daniels/glencore-china-group-lie-in-wait-as-adm-enters-grain-merger-fray-idUSKBN1FE222',\n",
       " '/article/usa-soybeans-protein/rpt-insight-protein-plight-brazil-steals-u-s-soybean-share-in-china-idUSL2N1PK04A',\n",
       " '/article/germany-stocks-factors/corrected-german-stocks-factors-to-watch-on-january-25-idUSL8N1PJ3AR',\n",
       " '/article/china-economy-trade-soybeans/soy-source-brazils-share-of-soybean-exports-to-china-hits-record-idUSL3N1PE34T',\n",
       " '/article/brief-jilin-expressway-says-unit-gets-co/brief-jilin-expressway-says-unit-gets-court-declaration-of-bankruptcy-idUSL4N1PK2Y7',\n",
       " '/article/usa-soybeans-protein/insight-protein-plight-brazil-steals-u-s-soybean-share-in-china-idUSL1N1OL1JD',\n",
       " '/article/us-monsanto-brazil/monsanto-to-defend-brazil-patent-on-gm-soybeans-lawyers-idUSKBN1FD2KW',\n",
       " '/article/us-nigeria-unilever/unilever-and-consumer-rivals-raise-bets-on-nigeria-idUSKBN1FD20Q',\n",
       " '/article/monsanto-brazil/corrected-monsanto-to-defend-brazil-patent-on-gm-soybeans-lawyers-idUSL2N1PI1VS',\n",
       " '/article/nigeria-unilever/unilever-and-consumer-rivals-raise-bets-on-nigeria-idUSL8N1PI6XT',\n",
       " '/article/usa-pesticides-soybeans/rpt-insight-battle-of-the-beans-monsanto-faces-a-fight-for-soy-market-idUSL2N1PJ03K',\n",
       " '/article/us-usa-pesticides-soybeans-insight/battle-of-the-beans-monsanto-faces-a-fight-for-soy-market-idUSKBN1FD0G2',\n",
       " '/article/usa-pesticides-soybeans/insight-battle-of-the-beans-monsanto-faces-a-fight-for-soy-market-idUSL1N1P400L',\n",
       " '/article/china-gmo-rice/u-s-gives-safety-approval-to-chinese-genetically-modified-rice-strain-idUSL4N1PI2PY',\n",
       " '/article/us-bunge-m-a-archer-daniels/adm-approach-to-bunge-marks-potential-u-turn-on-oilseed-strategy-idUSKBN1FC000',\n",
       " '/article/bunge-ma-archer-daniels/adm-approach-to-bunge-marks-potential-u-turn-on-oilseed-strategy-idUSL2N1PH1QD',\n",
       " '/article/grains-blockchain/u-s-soy-cargo-to-china-traded-using-blockchain-idUSL8N1PG0VJ',\n",
       " '/article/us-bunge-m-a-archer-daniels/adm-pursues-big-ag-merger-with-grain-trader-bunge-source-idUSKBN1F82N4',\n",
       " '/article/bunge-ma-archer-daniels/update-6-adm-pursues-big-ag-merger-with-grain-trader-bunge-source-idUSL1N1PF02S',\n",
       " '/article/bunge-ma-archer-daniels/corrected-update-4-adm-pursues-big-ag-merger-with-grain-trader-bunge-wsj-idUSL3N1PE517',\n",
       " '/article/us-usa-pesticides-arkansas/arkansas-restricts-controversial-monsanto-basf-farm-chemical-idUSKBN1F82D9',\n",
       " '/article/usa-pesticides-arkansas/arkansas-restricts-controversial-monsanto-basf-farm-chemical-idUSL1N1PE1B0',\n",
       " '/article/global-grains/grains-wheat-edges-higher-lingers-near-more-than-1-month-low-idUSL3N1PC18D',\n",
       " '/article/us-china-economy-trade-commodities/chinas-commodities-buying-spree-stalls-in-december-amid-smog-fight-idUSKBN1F10ZF',\n",
       " '/article/china-economy-trade-commodities/corrected-chinas-commodities-buying-spree-stalls-in-dec-amid-smog-fight-idUSL4N1P735I',\n",
       " '/article/us-usa-tax-agriculture/whoops-last-minute-change-to-u-s-tax-overhaul-splits-grains-sector-idUSKBN1F12H8',\n",
       " '/article/usa-tax-agriculture/update-2-whoops-last-minute-change-to-u-s-tax-overhaul-splits-grains-sector-idUSL1N1P71XU',\n",
       " '/article/usa-tax-agriculture/whoops-last-minute-change-to-u-s-tax-overhaul-splits-grains-sector-idUSL1N1P61F0',\n",
       " '/article/china-trade-commodities/table-china-preliminary-december-commodity-trade-data-idUSL4N1P72F8',\n",
       " '/article/china-economy-trade-commodities/china-2017-coal-imports-highest-since-2014-customs-idUSL4N1P71T9',\n",
       " '/article/us-usa-corn-whitecorn/grain-glut-leaves-u-s-farmers-facing-losses-from-specialty-corn-idUSKBN1F033X',\n",
       " '/article/usa-corn-whitecorn/update-1-grain-glut-leaves-u-s-farmers-facing-losses-from-specialty-corn-idUSL1N1P6297',\n",
       " '/article/us-monsanto-brazil-dicamba/monsanto-looking-to-sell-dicamba-resistant-gm-soy-seed-in-brazil-idUSKBN1F02SO',\n",
       " '/article/monsanto-brazil-dicamba/update-1-monsanto-looking-to-sell-dicamba-resistant-gm-soy-seed-in-brazil-idUSL1N1P61ON',\n",
       " '/article/usa-corn-whitecorn/refile-grain-glut-leaves-u-s-farmers-facing-losses-from-specialty-corn-idUSL1N1P30W6',\n",
       " '/article/usa-agriculture-tax/rpt-u-s-grain-companies-fear-harm-from-new-tax-law-idUSL1N1P501U',\n",
       " '/article/us-usa-agriculture-tax/u-s-grain-companies-fear-harm-from-new-tax-law-idUSKBN1EZ022',\n",
       " '/article/usa-agriculture-tax/u-s-grain-companies-fear-harm-from-new-tax-law-idUSL1N1P41GU',\n",
       " '/article/us-argentina-grains-weather/argentine-soy-planting-pushed-by-drought-into-mid-january-idUSKBN1EX23M',\n",
       " '/article/cme-group-trades-agriculture/rpt-cme-group-expands-private-trades-in-grain-markets-raising-worries-idUSL1N1P01E7',\n",
       " '/article/ip-patent-dupont/court-buries-monsanto-soybean-patent-handing-win-to-rival-dowdupont-idUSL1N1P01UK',\n",
       " '/article/cme-group-trades-agriculture/cme-group-expands-private-trades-in-grain-markets-raising-worries-idUSL1N1P00RL',\n",
       " '/article/us-monsanto-results/monsanto-profit-misses-estimates-as-farmers-face-squeeze-idUSKBN1ET1HG',\n",
       " '/article/monsanto-results/update-2-monsanto-profit-misses-estimates-as-farmers-face-squeeze-idUSL4N1OZ41C',\n",
       " '/article/monsanto-results/update-1-monsantos-profit-rises-expects-weed-killer-prices-to-rise-idUSL4N1OZ3QM',\n",
       " '/article/monsanto-results/monsantos-q1-profit-rises-idUSL4N1OZ3OG',\n",
       " '/article/brief-monsanto-q1-earnings-per-share-038/brief-monsanto-q1-earnings-per-share-0-38-idUSASB0BZQO',\n",
       " '/article/us-usa-weather-agriculture/u-s-agriculture-markets-jump-as-frigid-weather-blankets-farm-belt-idUSKBN1ET040',\n",
       " '/article/usa-weather-agriculture/u-s-agriculture-markets-jump-as-frigid-weather-blankets-farm-belt-idUSL1N1OY1T1',\n",
       " '/article/us-usa-pesticides-arkansas/arkansas-board-stands-by-proposal-to-limit-controversial-herbicide-idUSKBN1ET029',\n",
       " '/article/usa-pesticides-arkansas/arkansas-board-stands-by-proposal-to-limit-controversial-herbicide-idUSL1N1OZ00X',\n",
       " '/article/us-usa-pesticides-monsanto/monsanto-wins-support-from-11-u-s-states-in-california-cancer-dispute-idUSKBN1ES269',\n",
       " '/article/usa-pesticides-monsanto/monsanto-wins-support-from-11-u-s-states-in-california-cancer-dispute-idUSL1N1OY1RZ',\n",
       " '/article/cargill-inc-results/update-2-cargill-profit-falls-as-grain-glut-limits-trading-idUSL4N1OY37U',\n",
       " '/article/china-agriculture/china-to-expand-crop-rotation-and-fallow-systems-trials-idUSL4N1OX0PR',\n",
       " '/article/us-commodities-wrap/clear-winners-chinas-war-on-smog-lifts-metals-lng-to-multi-year-peaks-idUSKBN1EN0B8',\n",
       " '/article/commodities-wrap/graphic-clear-winners-chinas-war-on-smog-lifts-metals-lng-to-multi-year-peaks-idUSL4N1OS1AG',\n",
       " '/article/us-usa-weather-crops/new-years-day-cold-snap-to-hit-u-s-winter-wheat-rivers-idUSKBN1EN1KS',\n",
       " '/article/us-usa-biofuel/u-s-biodiesel-output-falls-to-146-million-gallons-in-october-eia-idUSKBN1EN1EN',\n",
       " '/article/us-argentina-grains-blast/argentine-port-blast-kills-one-injures-others-chinas-cofco-idUSKBN1EL1HD',\n",
       " '/article/argentina-grains-blast/update-4-argentine-port-blast-kills-one-injures-others-chinas-cofco-idUSL1N1OR0RF',\n",
       " '/article/us-usa-soybeans-china/half-of-u-s-soy-exports-to-china-would-fall-afoul-of-new-rules-idUSKBN1EL1LF',\n",
       " '/article/usa-soybeans-china/half-of-u-s-soy-exports-to-china-would-fall-afoul-of-new-rules-idUSL1N1OR0PU',\n",
       " '/article/usa-cattle-usda/u-s-nov-feedlot-cattle-placements-bigger-than-expected-idUSL1N1OM1IB',\n",
       " '/article/us-climatechange-migration/climate-change-seen-causing-big-rise-in-migrant-flow-to-eu-by-2100-idUSKBN1EF2LM',\n",
       " '/article/us-usa-pesticides-glyphosate/u-s-epa-says-glyphosate-not-likely-to-be-carcinogenic-to-people-idUSKBN1EE2XH',\n",
       " '/article/usa-pesticides-glyphosate/u-s-epa-says-glyphosate-not-likely-to-be-carcinogenic-to-people-idUSL1N1OK2BO',\n",
       " '/article/usa-soybeans-china/update-2-china-tightens-import-specifications-on-u-s-soybeans-usda-idUSL1N1OK1KG',\n",
       " '/article/brazil-cargill/cargill-submits-environmental-studies-for-212-mln-brazil-port-project-idUSL1N1OK1W8',\n",
       " '/article/us-brazil-grains-braun/soybeans-stealing-corns-thunder-at-brazil-ports-braun-idUSKBN1EE0ZP',\n",
       " '/article/france-invivo-agriculture/invivo-to-open-crop-input-unit-to-outside-investors-idUSL8N1OJ28X',\n",
       " '/article/us-eu-oilseeds-outlook/rapeseed-to-decline-in-eu-as-biofuel-wanes-exports-to-boost-wheat-report-idUSKBN1EC1E0',\n",
       " '/article/us-grains-weather-braun/dry-december-could-come-back-to-bite-u-s-plains-in-spring-braun-idUSKBN1EA00T',\n",
       " '/article/us-usa-crops-informa/informa-ups-u-s-2018-soy-plantings-forecast-trade-idUSKBN1E92F4',\n",
       " '/article/us-usa-pesticides-missouri/missouri-issues-first-fines-over-misuse-of-farm-chemical-in-2016-idUSKBN1E900N',\n",
       " '/article/usa-pesticides-missouri/missouri-issues-first-fines-over-misuse-of-farm-chemical-in-2016-idUSL1N1OE2XN',\n",
       " '/article/diary-washington/diary-today-in-washington-dec-15-idUSL1N1OE2B6',\n",
       " '/article/us-swiss-bolivia/swiss-to-help-build-railway-across-south-america-idUSKBN1E81ZW',\n",
       " '/article/swiss-bolivia/swiss-to-help-build-railway-across-south-america-idUSL8N1OE4KU',\n",
       " '/article/us-global-vegoils-braun/heavy-palm-oil-stocks-overshadow-tightening-in-vegoil-markets-braun-idUSKBN1E735A',\n",
       " '/article/us-usa-pesticides-minnesota/minnesota-joins-u-s-states-limiting-controversial-farm-chemical-idUSKBN1E702G',\n",
       " '/article/usa-pesticides-minnesota/minnesota-joins-u-s-states-limiting-controversial-farm-chemical-idUSL1N1OD00S',\n",
       " '/article/us-usda-crops/u-s-soybean-wheat-ending-stocks-up-as-exports-fall-usda-idUSKBN1E62I1',\n",
       " '/article/usda-crops/update-1-u-s-soybean-wheat-ending-stocks-up-as-exports-fall-usda-idUSL1N1OC1ET',\n",
       " '/article/usa-soy-crush-expansion/rpt-u-s-soy-processors-build-new-capacity-at-fastest-rate-in-20-years-idUSL1N1O81XL',\n",
       " '/article/us-cbot-grains-braun/funds-buy-cbot-soymeal-at-record-clip-over-argentine-dryness-braun-idUSKBN1E603B',\n",
       " '/article/us-usa-pesticides-monsanto/monsanto-offers-cash-to-u-s-farmers-who-use-controversial-chemical-idUSKBN1E50EN',\n",
       " '/article/usa-pesticides-monsanto/update-1-monsanto-offers-cash-to-u-s-farmers-who-use-controversial-chemical-idUSL1N1OB1X3',\n",
       " '/article/brief-yield10-bioscience-grants-research/brief-yield10-bioscience-grants-research-license-to-monsanto-to-evaluate-two-novel-yield-traits-in-soybean-idUSFWN1OB0JL',\n",
       " '/article/usa-pesticides-monsanto/rpt-monsanto-offers-cash-to-u-s-farmers-who-use-controversial-chemical-idUSL1N1O8227',\n",
       " '/article/us-usa-soy-crush-expansion/u-s-soy-processors-build-new-capacity-at-fastest-rate-in-20-years-idUSKBN1E50E1',\n",
       " '/article/usa-soy-crush-expansion/u-s-soy-processors-build-new-capacity-at-fastest-rate-in-20-years-idUSL1N1O42A3',\n",
       " '/article/usa-pesticides-monsanto/monsanto-offers-cash-to-u-s-farmers-who-use-controversial-chemical-idUSL1N1O62N9',\n",
       " '/article/china-trade-commodities/table-china-preliminary-november-commodity-trade-data-idUSL3N1O823G',\n",
       " '/article/us-usa-grains-infrastructure-insight/wooden-dams-and-river-jams-u-s-strains-to-ship-record-grains-idUSKBN1DZ0HH',\n",
       " '/article/us-usa-soybeans-braun/u-s-soy-exports-falter-in-october-while-brazils-shine-braun-idUSKBN1E105K',\n",
       " '/article/us-argentina-grains/argentine-drought-threatens-to-wallop-late-planted-corn-and-soy-idUSKBN1E031Y',\n",
       " '/article/us-monsanto-brazil-corn/monsanto-will-prevail-in-brazil-patent-dispute-south-american-ceo-says-idUSKBN1E02HK',\n",
       " '/article/monsanto-brazil-corn/update-1-monsanto-will-prevail-in-brazil-patent-dispute-s-american-ceo-says-idUSL1N1O619V',\n",
       " '/article/brazil-grains-meat/brazil-to-decree-trade-terms-for-grains-oilseeds-with-russia-idUSE6N1LE02A',\n",
       " '/article/monsanto-brazil-corn/monsanto-south-america-chief-sees-reduction-in-corn-area-idUSS0N1IR015',\n",
       " '/article/us-indigo-fundraising/farming-startup-indigo-raises-203-million-with-help-from-dubai-fund-idUSKBN1E01PK',\n",
       " '/article/indigo-fundraising/farming-startup-indigo-raises-203-mln-with-help-from-dubai-fund-idUSL1N1O6028',\n",
       " '/article/ip-patent-dow/scotus-declines-to-review-455-million-award-for-bayer-in-dow-patent-fight-idUSL1N1O601F',\n",
       " '/article/us-newsnow-oct05/tuesday-morning-briefing-idUSKBN1DZ1KG',\n",
       " '/article/usa-grains-infrastructure/rpt-insight-wooden-dams-and-river-jams-u-s-strains-to-ship-record-grains-idUSL1N1O504M']"
      ]
     },
     "execution_count": 19,
     "metadata": {},
     "output_type": "execute_result"
    }
   ],
   "source": [
    "articles"
   ]
  },
  {
   "cell_type": "code",
   "execution_count": null,
   "metadata": {
    "collapsed": true
   },
   "outputs": [],
   "source": []
  }
 ],
 "metadata": {
  "kernelspec": {
   "display_name": "Python 3",
   "language": "python",
   "name": "python3"
  },
  "language_info": {
   "codemirror_mode": {
    "name": "ipython",
    "version": 3
   },
   "file_extension": ".py",
   "mimetype": "text/x-python",
   "name": "python",
   "nbconvert_exporter": "python",
   "pygments_lexer": "ipython3",
   "version": "3.6.3"
  }
 },
 "nbformat": 4,
 "nbformat_minor": 2
}
