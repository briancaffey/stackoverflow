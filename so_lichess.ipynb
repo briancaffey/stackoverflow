{
 "cells": [
  {
   "cell_type": "code",
   "execution_count": 56,
   "metadata": {
    "collapsed": true
   },
   "outputs": [],
   "source": [
    "import pandas as pd\n",
    "\n",
    "data = \"\"\"[Event \"Rated Crazyhouse game\"]\n",
    "[Site \"https://lichess.org/NsNeyqv1\"]\n",
    "[Date \"2018.01.23\"]\n",
    "[Round \"-\"]\n",
    "[White \"nikoskaterini\"]\n",
    "[Black \"Ominous\"]\n",
    "[Result \"0-1\"]\n",
    "[UTCDate \"2018.01.23\"]\n",
    "[UTCTime \"18:22:39\"]\n",
    "[WhiteElo \"1611\"]\n",
    "[BlackElo \"2118\"]\n",
    "[WhiteRatingDiff \"-10\"]\n",
    "[BlackRatingDiff \"+2\"]\n",
    "[Variant \"Crazyhouse\"]\n",
    "[TimeControl \"30+0\"]\n",
    "[ECO \"?\"]\n",
    "[Opening \"?\"]\n",
    "[Termination \"Normal\"]\n",
    "\n",
    "1. d4 { [%clk 0:00:30] } d5 { [%clk 0:00:30] } 2. Bf4 { [%clk 0:00:27] } Nc6 { [%clk 0:00:30] } 3. e3 { [%clk 0:00:26] } Nf6 { [%clk 0:00:30] } 4. Bd3 { [%clk 0:00:25] } Bg4 { [%clk 0:00:30] } 5. c3 { [%clk 0:00:25] } Bxd1 { [%clk 0:00:29] } 6. Kxd1 { [%clk 0:00:24] } e6 { [%clk 0:00:28] } 7. Nd2 { [%clk 0:00:23] } Bd6 { [%clk 0:00:28] } 8. Bxd6 { [%clk 0:00:21] } cxd6 { [%clk 0:00:28] } 9. Ngf3 { [%clk 0:00:19] } O-O { [%clk 0:00:27] } 10. Ng5 { [%clk 0:00:17] } B@e4 { [%clk 0:00:27] } 11. Bxe4 { [%clk 0:00:14] } dxe4 { [%clk 0:00:27] } 12. B@e2 { [%clk 0:00:11] } B@f5 { [%clk 0:00:27] } 13. Nh3 { [%clk 0:00:08] } Bxh3 { [%clk 0:00:24] } 14. gxh3 { [%clk 0:00:08] } N@d3 { [%clk 0:00:23] } 15. Rg1 { [%clk 0:00:08] } Nxf2+ { [%clk 0:00:22] } 16. Ke1 { [%clk 0:00:06] } Nd3+ { [%clk 0:00:22] } 17. Bxd3 { [%clk 0:00:05] } exd3 { [%clk 0:00:20] } 18. B@h6 { [%clk 0:00:04] } Q@e2# { [%clk 0:00:18] } 0-1\n",
    "\n",
    "\n",
    "[Event \"Rated Crazyhouse game\"]\n",
    "[Site \"https://lichess.org/0r8jJe5d\"]\n",
    "[Date \"2018.01.23\"]\n",
    "[Round \"-\"]\n",
    "[White \"RefuteMeThisWaste\"]\n",
    "[Black \"Ominous\"]\n",
    "[Result \"0-1\"]\n",
    "[UTCDate \"2018.01.23\"]\n",
    "[UTCTime \"15:51:19\"]\n",
    "[WhiteElo \"1718\"]\n",
    "[BlackElo \"2115\"]\n",
    "[WhiteRatingDiff \"-23\"]\n",
    "[BlackRatingDiff \"+3\"]\n",
    "[Variant \"Crazyhouse\"]\n",
    "[TimeControl \"300+0\"]\n",
    "[ECO \"?\"]\n",
    "[Opening \"?\"]\n",
    "[Termination \"Time forfeit\"]\n",
    "\n",
    "1. e4 { [%clk 0:05:00] } e5 { [%clk 0:05:00] } 2. Bc4 { [%clk 0:04:58] } Bc5 { [%clk 0:04:58] } 3. Nf3 { [%clk 0:04:50] } Nc6 { [%clk 0:04:56] } 4. Bxf7+ { [%clk 0:04:42] } Kxf7 { [%clk 0:04:55] } 5. d4 { [%clk 0:04:37] } Bxd4 { [%clk 0:04:53] } 6. Ng5+ { [%clk 0:04:27] } Kf8 { [%clk 0:04:46] } 7. Qf3+ { [%clk 0:03:38] } Nf6 { [%clk 0:04:42] } 8. P@d5 { [%clk 0:03:11] } B@g4 { [%clk 0:04:37] } 9. Qa3+ { [%clk 0:02:45] } P@c5 { [%clk 0:04:21] } 10. dxc6 { [%clk 0:02:40] } Bxf2+ { [%clk 0:04:19] } 11. Kxf2 { [%clk 0:02:30] } dxc6 { [%clk 0:04:18] } 12. h3 { [%clk 0:01:41] } Bge6 { [%clk 0:04:06] } 13. B@g4 { [%clk 0:01:00] } Bxg4 { [%clk 0:03:52] } 14. hxg4 { [%clk 0:00:57] } B@d4+ { [%clk 0:03:45] } 15. B@e3 { [%clk 0:00:53] } Nxg4+ { [%clk 0:03:38] } 16. Kf1 { [%clk 0:00:38] } Nxe3+ { [%clk 0:03:34] } 17. Bxe3 { [%clk 0:00:35] } Qf6+ { [%clk 0:03:19] } 18. N@f5 { [%clk 0:00:29] } Bxe3 { [%clk 0:03:14] } 19. Qxe3 { [%clk 0:00:24] } B@d4 { [%clk 0:03:11] } 20. N@e6+ { [%clk 0:00:16] } Bxe6 { [%clk 0:03:09] } 21. Nxe6+ { [%clk 0:00:12] } Qxe6 { [%clk 0:03:08] } 22. B@e7+ { [%clk 0:00:08] } Qxe7 { [%clk 0:03:01] } 23. Nxe7 { [%clk 0:00:07] } P@e2+ { [%clk 0:03:00] } 24. Qxe2 { [%clk 0:00:03] } N@g3+ { [%clk 0:02:59] } 25. Ke1 { [%clk 0:00:01] } B@f2+ { [%clk 0:02:55] } 0-1\"\"\""
   ]
  },
  {
   "cell_type": "code",
   "execution_count": 57,
   "metadata": {},
   "outputs": [],
   "source": [
    "f = open(\"file.txt\", \"w+\")\n",
    "f.write(data)\n",
    "f.close()\n",
    "\n"
   ]
  },
  {
   "cell_type": "code",
   "execution_count": null,
   "metadata": {},
   "outputs": [],
   "source": []
  },
  {
   "cell_type": "code",
   "execution_count": 58,
   "metadata": {},
   "outputs": [
    {
     "name": "stdout",
     "output_type": "stream",
     "text": [
      "     Black  BlackElo  BlackRatingDiff        Date ECO                  Event  \\\n",
      "0  Ominous      2118                2  2018.01.23   ?  Rated Crazyhouse game   \n",
      "1  Ominous      2115                3  2018.01.23   ?  Rated Crazyhouse game   \n",
      "\n",
      "  Opening Result Round                          Site   Termination  \\\n",
      "0       ?    0-1     -  https://lichess.org/NsNeyqv1        Normal   \n",
      "1       ?    0-1     -  https://lichess.org/0r8jJe5d  Time forfeit   \n",
      "\n",
      "  TimeControl     UTCDate   UTCTime     Variant              White  WhiteElo  \\\n",
      "0        30+0  2018.01.23  18:22:39  Crazyhouse      nikoskaterini      1611   \n",
      "1       300+0  2018.01.23  15:51:19  Crazyhouse  RefuteMeThisWaste      1718   \n",
      "\n",
      "   WhiteRatingDiff  \n",
      "0              -10  \n",
      "1              -23  \n"
     ]
    }
   ],
   "source": [
    "file = open(\"file.txt\", \"r\")\n",
    "games = []\n",
    "dic = {}\n",
    "for l in file:\n",
    "    if l[0] == \"[\":\n",
    "        string = l[1:-1]\n",
    "        header = string.split()[0]\n",
    "        dic[header] = string[len(header):-2].strip().strip('\"')\n",
    "    if l[0] == \"1\":\n",
    "        games.append(dic)\n",
    "        dic = {}\n",
    "    else:\n",
    "        pass\n",
    "    \n",
    "    \n",
    "games\n",
    "df = pd.DataFrame(games)\n",
    "\n",
    "df.to_csv('games.csv', index=False)\n",
    "\n",
    "df1 = pd.read_csv('games.csv')\n",
    "print(df1)"
   ]
  },
  {
   "cell_type": "code",
   "execution_count": 52,
   "metadata": {},
   "outputs": [],
   "source": []
  },
  {
   "cell_type": "code",
   "execution_count": 53,
   "metadata": {
    "collapsed": true
   },
   "outputs": [],
   "source": []
  },
  {
   "cell_type": "code",
   "execution_count": 55,
   "metadata": {},
   "outputs": [
    {
     "name": "stdout",
     "output_type": "stream",
     "text": [
      "     Black  BlackElo  BlackRatingDiff        Date ECO                  Event  \\\n",
      "0  Ominous      2118                2  2018.01.23   ?  Rated Crazyhouse game   \n",
      "1  Ominous      2115                3  2018.01.23   ?  Rated Crazyhouse game   \n",
      "\n",
      "  Opening Result Round                          Site   Termination  \\\n",
      "0       ?    0-1     -  https://lichess.org/NsNeyqv1        Normal   \n",
      "1       ?    0-1     -  https://lichess.org/0r8jJe5d  Time forfeit   \n",
      "\n",
      "  TimeControl     UTCDate   UTCTime     Variant              White  WhiteElo  \\\n",
      "0        30+0  2018.01.23  18:22:39  Crazyhouse      nikoskaterini      1611   \n",
      "1       300+0  2018.01.23  15:51:19  Crazyhouse  RefuteMeThisWaste      1718   \n",
      "\n",
      "   WhiteRatingDiff  \n",
      "0              -10  \n",
      "1              -23  \n"
     ]
    }
   ],
   "source": []
  },
  {
   "cell_type": "code",
   "execution_count": null,
   "metadata": {
    "collapsed": true
   },
   "outputs": [],
   "source": []
  }
 ],
 "metadata": {
  "kernelspec": {
   "display_name": "Python 3",
   "language": "python",
   "name": "python3"
  },
  "language_info": {
   "codemirror_mode": {
    "name": "ipython",
    "version": 3
   },
   "file_extension": ".py",
   "mimetype": "text/x-python",
   "name": "python",
   "nbconvert_exporter": "python",
   "pygments_lexer": "ipython3",
   "version": "3.6.3"
  }
 },
 "nbformat": 4,
 "nbformat_minor": 2
}
