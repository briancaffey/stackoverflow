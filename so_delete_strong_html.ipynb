{
 "cells": [
  {
   "cell_type": "code",
   "execution_count": 76,
   "metadata": {},
   "outputs": [
    {
     "name": "stdout",
     "output_type": "stream",
     "text": [
      "<html><body><h1>This is some content</h1><p>This text  is deleted.</p><p>There is no more </p></body></html>finally\n"
     ]
    }
   ],
   "source": [
    "html = \"\"\"<html><body><h1>This is some content</h1><p>This text <strong>is strong</strong> is deleted.</p><p>There is no more <strong>strong text</strong></p></body></html><strong>more strong</strong>finally\"\"\"\n",
    "final = [i.split('</strong>') for i in html.split(\"<strong>\")]\n",
    "final = final[0][0]+\"\".join([i[-1] for i in final[1:]])\n",
    "print(final)"
   ]
  },
  {
   "cell_type": "code",
   "execution_count": 79,
   "metadata": {},
   "outputs": [],
   "source": [
    "from bs4 import BeautifulSoup\n",
    "soup = BeautifulSoup(html, 'lxml')\n",
    "for strong in soup.find_all('strong'):\n",
    "    strong.decompose()"
   ]
  },
  {
   "cell_type": "code",
   "execution_count": 80,
   "metadata": {},
   "outputs": [
    {
     "data": {
      "text/plain": [
       "<html><body><h1>This is some content</h1><p>This text  is deleted.</p><p>There is no more </p></body></html>"
      ]
     },
     "execution_count": 80,
     "metadata": {},
     "output_type": "execute_result"
    }
   ],
   "source": [
    "soup"
   ]
  },
  {
   "cell_type": "code",
   "execution_count": null,
   "metadata": {
    "collapsed": true
   },
   "outputs": [],
   "source": []
  }
 ],
 "metadata": {
  "kernelspec": {
   "display_name": "Python 3",
   "language": "python",
   "name": "python3"
  },
  "language_info": {
   "codemirror_mode": {
    "name": "ipython",
    "version": 3
   },
   "file_extension": ".py",
   "mimetype": "text/x-python",
   "name": "python",
   "nbconvert_exporter": "python",
   "pygments_lexer": "ipython3",
   "version": "3.6.3"
  }
 },
 "nbformat": 4,
 "nbformat_minor": 2
}
