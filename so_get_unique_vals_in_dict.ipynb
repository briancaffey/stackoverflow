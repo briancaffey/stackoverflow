{
 "cells": [
  {
   "cell_type": "code",
   "execution_count": 80,
   "metadata": {
    "collapsed": true
   },
   "outputs": [],
   "source": [
    "dic = {\n",
    "    \"Localfiles\": [{\n",
    "        \"IPAddress\": [\"217.120.103.158\"],\n",
    "        \"FileLength\": 363031,\n",
    "        \"FileName\": \"chromeicon.png\"\n",
    "    }, {\n",
    "        \"IPAddress\": [\"217.120.103.158\"],\n",
    "        \"FileLength\": 363031,\n",
    "        \"FileName\": \"chromeicon.png\"\n",
    "    }]\n",
    "}"
   ]
  },
  {
   "cell_type": "code",
   "execution_count": 82,
   "metadata": {
    "collapsed": true
   },
   "outputs": [],
   "source": [
    "L = dic[\"Localfiles\"]"
   ]
  },
  {
   "cell_type": "code",
   "execution_count": 83,
   "metadata": {},
   "outputs": [
    {
     "data": {
      "text/plain": [
       "{'Localfiles': [{'FileLength': 363031,\n",
       "   'FileName': 'chromeicon.png',\n",
       "   'IPAddress': ['217.120.103.158']}]}"
      ]
     },
     "execution_count": 83,
     "metadata": {},
     "output_type": "execute_result"
    }
   ],
   "source": [
    "dic = {\n",
    "    'Localfiles': [{\n",
    "        'IPAddress': ['217.120.103.158'],\n",
    "        'FileLength': 363031,\n",
    "        'FileName': 'chromeicon.png'\n",
    "    }, {\n",
    "        'IPAddress': ['217.120.103.158'],\n",
    "        'FileLength': 363031,\n",
    "        'FileName': 'chromeicon.png'\n",
    "    }]\n",
    "}\n",
    "\n",
    "L = dic[\"Localfiles\"]\n",
    "\n",
    "dic[\"Localfiles\"] = list({v['FileName']:v for v in L}.values())\n",
    "\n",
    "dic"
   ]
  },
  {
   "cell_type": "code",
   "execution_count": 84,
   "metadata": {
    "collapsed": true
   },
   "outputs": [],
   "source": [
    "dic = '{\"Localfiles\":[{\"IPAddress\": [\"217.120.103.158\"],\"FileLength\": 363031,\"FileName\": \"chromeicon.png\"},{\"IPAddress\": [\"217.120.103.158\"],\"FileLength\": 363031,\"FileName\":\"chromeicon.png\"}]}'"
   ]
  },
  {
   "cell_type": "code",
   "execution_count": 85,
   "metadata": {},
   "outputs": [
    {
     "data": {
      "text/plain": [
       "'{\"Localfiles\":[{\"IPAddress\": [\"217.120.103.158\"],\"FileLength\": 363031,\"FileName\": \"chromeicon.png\"},{\"IPAddress\": [\"217.120.103.158\"],\"FileLength\": 363031,\"FileName\":\"chromeicon.png\"}]}'"
      ]
     },
     "execution_count": 85,
     "metadata": {},
     "output_type": "execute_result"
    }
   ],
   "source": [
    "dic"
   ]
  },
  {
   "cell_type": "code",
   "execution_count": 86,
   "metadata": {
    "collapsed": true
   },
   "outputs": [],
   "source": [
    "import json\n",
    "dic = '{\"Localfiles\":[{\"IPAddress\": [\"217.120.103.158\"],\"FileLength\": 363031,\"FileName\": \"chromeicon.png\"},{\"IPAddress\": [\"217.120.103.158\"],\"FileLength\": 363031,\"FileName\":\"chromeicon.png\"}]}'"
   ]
  },
  {
   "cell_type": "code",
   "execution_count": 87,
   "metadata": {
    "collapsed": true
   },
   "outputs": [],
   "source": [
    "data = {}  \n",
    "data[\"Localfiles\"] = []\n",
    "def test(datas):\n",
    "    test = json.loads(str(datas))\n",
    "    for x in range(0,(len(test[\"Localfiles\"]))):\n",
    "        if x not in data:\n",
    "            data[\"Localfiles\"].append({\n",
    "                \"FileName\":test[\"Localfiles\"][x][\"FileName\"],\n",
    "                \"FileLength\":test[\"Localfiles\"][x][\"FileLength\"],\n",
    "                \"IPAddress\":test[\"Localfiles\"][x][\"IPAddress\"]\n",
    "            })\n",
    "            \n",
    "    L = data[\"Localfiles\"]\n",
    "    data[\"Localfiles\"] = list({v['FileName']:v for v in L}.values())\n",
    "\n",
    "    return data"
   ]
  },
  {
   "cell_type": "code",
   "execution_count": 88,
   "metadata": {},
   "outputs": [
    {
     "data": {
      "text/plain": [
       "{'Localfiles': [{'FileLength': 363031,\n",
       "   'FileName': 'chromeicon.png',\n",
       "   'IPAddress': ['217.120.103.158']}]}"
      ]
     },
     "execution_count": 88,
     "metadata": {},
     "output_type": "execute_result"
    }
   ],
   "source": [
    "test(dic)"
   ]
  },
  {
   "cell_type": "code",
   "execution_count": 89,
   "metadata": {},
   "outputs": [
    {
     "data": {
      "text/plain": [
       "{'Localfiles': [{'FileLength': 363031,\n",
       "   'FileName': 'chromeicon.png',\n",
       "   'IPAddress': ['217.120.103.158']},\n",
       "  {'FileLength': 363031,\n",
       "   'FileName': 'chromeicon.png',\n",
       "   'IPAddress': ['217.120.103.158']}]}"
      ]
     },
     "execution_count": 89,
     "metadata": {},
     "output_type": "execute_result"
    }
   ],
   "source": [
    "json.loads(dic)"
   ]
  }
 ],
 "metadata": {
  "kernelspec": {
   "display_name": "Python 3",
   "language": "python",
   "name": "python3"
  },
  "language_info": {
   "codemirror_mode": {
    "name": "ipython",
    "version": 3
   },
   "file_extension": ".py",
   "mimetype": "text/x-python",
   "name": "python",
   "nbconvert_exporter": "python",
   "pygments_lexer": "ipython3",
   "version": "3.6.3"
  }
 },
 "nbformat": 4,
 "nbformat_minor": 2
}
