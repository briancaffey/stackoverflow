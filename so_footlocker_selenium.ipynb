{
 "cells": [
  {
   "cell_type": "code",
   "execution_count": null,
   "metadata": {
    "collapsed": true
   },
   "outputs": [],
   "source": [
    "import requests\n",
    "from selenium.webdriver.support import ui\n",
    "\n",
    "from selenium import webdriver\n",
    "from selenium.webdriver.support import expected_conditions as EC\n",
    "from selenium.webdriver.support.ui import WebDriverWait\n",
    "from selenium.webdriver.common.by import By\n",
    "\n",
    "\n",
    "def get_page(model, sku):\n",
    "    url = \"https://www.footlocker.com/product/model:\"+str(model)+\"/sku:\"+ str(sku)+\"/\"\n",
    "    return url \n",
    "\n",
    "browser = webdriver.PhantomJS()\n",
    "\n",
    "page=browser.get(get_page(277097,\"8448001\"))\n",
    "\n",
    "browser.find_element_by_xpath(\"//*[@id='pdp_size_select_mask']\").click()\n",
    "\n",
    "link = ui.WebDriverWait(browser, 10).until(EC.element_to_be_clickable((By.CSS_SELECTOR, \"#size_selection_list\")))\n",
    "\n",
    "browser.find_element_by_css_selector('#size_selection_list').click()\n",
    "\n",
    "browser.find_element_by_css_selector('#size_selection_list > a:nth-child(8)').click()\n",
    "\n",
    "browser.find_element_by_xpath(\"//*[@id='pdp_addtocart_button']\").click()\n",
    "\n",
    "checkout = browser.get('https://www.footlocker.com/shoppingcart/default.cfm?sku=')\n",
    "\n",
    "checkoutbutton = browser.find_element_by_css_selector('#cart_checkout_button').click()"
   ]
  },
  {
   "cell_type": "code",
   "execution_count": null,
   "metadata": {
    "collapsed": true
   },
   "outputs": [],
   "source": []
  },
  {
   "cell_type": "code",
   "execution_count": null,
   "metadata": {
    "collapsed": true
   },
   "outputs": [],
   "source": []
  }
 ],
 "metadata": {
  "kernelspec": {
   "display_name": "Python 3",
   "language": "python",
   "name": "python3"
  },
  "language_info": {
   "codemirror_mode": {
    "name": "ipython",
    "version": 3
   },
   "file_extension": ".py",
   "mimetype": "text/x-python",
   "name": "python",
   "nbconvert_exporter": "python",
   "pygments_lexer": "ipython3",
   "version": "3.6.3"
  }
 },
 "nbformat": 4,
 "nbformat_minor": 2
}
