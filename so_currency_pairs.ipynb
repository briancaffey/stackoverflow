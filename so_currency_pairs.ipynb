{
 "cells": [
  {
   "cell_type": "code",
   "execution_count": 1,
   "metadata": {
    "collapsed": true
   },
   "outputs": [],
   "source": [
    "import json\n",
    "from collections import Counter"
   ]
  },
  {
   "cell_type": "code",
   "execution_count": 2,
   "metadata": {
    "collapsed": true
   },
   "outputs": [],
   "source": [
    "data = \"\"\"{\n",
    "    \"success\":true,\n",
    "    \"message\":\"\",\n",
    "    \"result\":[\n",
    "        {\n",
    "            \"Market\":\n",
    "                {\n",
    "                    \"MarketCurrency\":\"CAD\",\n",
    "                    \"BaseCurrency\":\"USD\",\n",
    "                    \"MarketCurrencyLong\":\"Canadian Dollar\",\n",
    "                    \"BaseCurrencyLong\":\"US Dollar\",\n",
    "                    \"MarketName\":\"USD-CAD\"\n",
    "                },\n",
    "            \"Summary\":\n",
    "                {\n",
    "                    \"MarketName\":\"USD-CAD\",\n",
    "                    \"Price\":0.80,\n",
    "                    \"Bid\":0.80,\n",
    "                    \"Ask\":0.81\n",
    "                },\n",
    "            \"IsVerified\":false\n",
    "        },\n",
    "        {\n",
    "            \"Market\":\n",
    "                {\n",
    "                    \"MarketCurrency\":\"EUR\",\n",
    "                    \"BaseCurrency\":\"USD\",\n",
    "                    \"MarketCurrencyLong\":\"Euro\",\n",
    "                    \"BaseCurrencyLong\":\"US Dollar\",\n",
    "                    \"MarketName\":\"USD-EUR\"\n",
    "                },\n",
    "            \"Summary\":\n",
    "                {\n",
    "                    \"MarketName\":\"USD-EUR\",\n",
    "                    \"Price\":1.23,\n",
    "                    \"Bid\":1.22,\n",
    "                    \"Ask\":1.24\n",
    "                },\n",
    "            \"IsVerified\":false\n",
    "        },\n",
    "        {\n",
    "            \"Market\":\n",
    "                {\n",
    "                    \"MarketCurrency\":\"CAD\",\n",
    "                    \"BaseCurrency\":\"GBP\",\n",
    "                    \"MarketCurrencyLong\":\"Canadian Dollar\",\n",
    "                    \"BaseCurrencyLong\":\"British Pound\",\n",
    "                    \"MarketName\":\"GBP-CAD\"\n",
    "                },\n",
    "            \"Summary\":\n",
    "                {\n",
    "                    \"MarketName\":\"GBP-CAD\",\n",
    "                    \"Price\":0.57,\n",
    "                    \"Bid\":0.56,\n",
    "                    \"Ask\":0.57\n",
    "                },\n",
    "            \"IsVerified\":false\n",
    "        },\n",
    "        {\n",
    "            \"Market\":\n",
    "                {\n",
    "                    \"MarketCurrency\":\"KRW\",\n",
    "                    \"BaseCurrency\":\"GBP\",\n",
    "                    \"MarketCurrencyLong\":\"Korean Won\",\n",
    "                    \"BaseCurrencyLong\":\"British Pound\",\n",
    "                    \"MarketName\":\"GBP-KRW\"\n",
    "                },\n",
    "            \"Summary\":\n",
    "                {\n",
    "                    \"MarketName\":\"GBP-KRW\",\n",
    "                    \"Price\":0.00067,\n",
    "                    \"Bid\":0.000671,\n",
    "                    \"Ask\":0.000672\n",
    "                },\n",
    "            \"IsVerified\":false\n",
    "        }\n",
    "    ]\n",
    "}\"\"\""
   ]
  },
  {
   "cell_type": "code",
   "execution_count": 3,
   "metadata": {
    "collapsed": true
   },
   "outputs": [],
   "source": [
    "d = json.loads(data)\n",
    "results = d[\"result\"]\n",
    "\n",
    "bases = [c[\"Market\"][\"BaseCurrency\"] for c in results]\n",
    "basesCount = Counter(bases)\n",
    "multi_bases = [base for base, count in basesCount.items() if int(basesCount[base])>1]"
   ]
  },
  {
   "cell_type": "code",
   "execution_count": 4,
   "metadata": {},
   "outputs": [
    {
     "data": {
      "text/plain": [
       "['USD', 'GBP']"
      ]
     },
     "execution_count": 4,
     "metadata": {},
     "output_type": "execute_result"
    }
   ],
   "source": [
    "multi_bases"
   ]
  },
  {
   "cell_type": "code",
   "execution_count": null,
   "metadata": {
    "collapsed": true
   },
   "outputs": [],
   "source": [
    "#multibas currencies\n",
    "mbc = {\"currencies\":[]}\n",
    "\n",
    "for r in results:\n",
    "    if r[\"Market\"][\"MarketCurrency\"] in multi_bases:\n",
    "        \n",
    "        mbc[\"currencies\"].append({cur:{\"Market\"}})"
   ]
  },
  {
   "cell_type": "code",
   "execution_count": null,
   "metadata": {
    "collapsed": true
   },
   "outputs": [],
   "source": [
    "{\n",
    "    \"currencies\":[\n",
    "        {\n",
    "            \"CAD\":\n",
    "                {\n",
    "                    \"MarketCurrency\":\"CAD\",\n",
    "                    \"MarketCurrencyLong\":\"Canadian Dollar\",\n",
    "                    \"BaseCurrencies\":[\n",
    "                        {\n",
    "                            \"BaseCurrency\":\"USD\",\n",
    "                            \"MarketName\":\"USD-CAD\"\n",
    "                            \"Price:0.80,\n",
    "                            \"Bid\":0.80,\n",
    "                            \"Ask\":0.81\n",
    "                        },\n",
    "                        {\n",
    "                            \"BaseCurrency\":\"GBP\",\n",
    "                            \"MarketName\":\"GBP-CAD\",\n",
    "                            \"Price:0.57,\n",
    "                            \"Bid\":0.56,\n",
    "                            \"Ask\":0.57\n",
    "                        }\n",
    "                    ]\n",
    "\n",
    "                }\n",
    "        }\n",
    "    ]\n",
    "}"
   ]
  }
 ],
 "metadata": {
  "kernelspec": {
   "display_name": "Python 3",
   "language": "python",
   "name": "python3"
  },
  "language_info": {
   "codemirror_mode": {
    "name": "ipython",
    "version": 3
   },
   "file_extension": ".py",
   "mimetype": "text/x-python",
   "name": "python",
   "nbconvert_exporter": "python",
   "pygments_lexer": "ipython3",
   "version": "3.6.3"
  }
 },
 "nbformat": 4,
 "nbformat_minor": 2
}
