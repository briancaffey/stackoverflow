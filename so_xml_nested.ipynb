{
 "cells": [
  {
   "cell_type": "code",
   "execution_count": 1,
   "metadata": {},
   "outputs": [
    {
     "name": "stdout",
     "output_type": "stream",
     "text": [
      "[{'class': 'ACE', 'order': '320'}, {'class': 'ACS', 'order': '1900'}, {'class': 'Aironet', 'order': '1050'}, {'class': 'Apache', 'order': '4700'}, {'class': 'AppSecDbProtect', 'order': '1477'}, {'class': 'ArborNetworksPravail', 'Thresholds': [{'name': 'MinNumEvents', 'value': '5'}, {'name': 'AbandonAfterSuccessiveFailures', 'value': '3'}], 'Templates': [{'name': 'DeviceName', 'value': 'Arbor Networks Pravail @ $$SOURCE_ADDRESS$$'}], 'order': '1554'}, {'class': 'ARN', 'order': '2000'}, {'class': 'ArpeggioSIFTIT', 'order': '1553'}, {'class': 'ArubaClearPass', 'Thresholds': [{'name': 'MinNumEvents', 'value': '5'}, {'name': 'AbandonAfterSuccessiveFailures', 'value': '3'}], 'Templates': [{'name': 'DeviceName', 'value': 'Aruba ClearPass Policy Manager @ $$SOURCE_ADDRESS$$'}, {'name': 'DeviceDescription', 'value': 'Aruba ClearPass Policy Manager Device'}], 'order': '545'}]\n"
     ]
    }
   ],
   "source": [
    "xml = \"\"\"<DSMs>\n",
    "<DSM class=\"ACE\" order=\"320\"/>\n",
    "<DSM class=\"ACS\" order=\"1900\"/>\n",
    "<DSM class=\"Aironet\" order=\"1050\"/>\n",
    "<DSM class=\"Apache\" order=\"4700\"/>\n",
    "<DSM class=\"AppSecDbProtect\" order=\"1477\"/>\n",
    "<DSM class=\"ArborNetworksPravail\" order=\"1554\">\n",
    "  <Thresholds>\n",
    "    <Threshold name=\"MinNumEvents\" value=\"5\"/>\n",
    "    <Threshold name=\"AbandonAfterSuccessiveFailures\" value=\"3\"/>\n",
    "  </Thresholds>\n",
    "  <Templates>\n",
    "    <Template name=\"DeviceName\" value=\"Arbor Networks Pravail @ $$SOURCE_ADDRESS$$\"/>\n",
    "  </Templates>\n",
    "</DSM>\n",
    "<DSM class=\"ARN\" order=\"2000\"/>\n",
    "<DSM class=\"ArpeggioSIFTIT\" order=\"1553\"/>\n",
    "<DSM class=\"ArubaClearPass\" order=\"545\">\n",
    "  <Thresholds>\n",
    "    <Threshold name=\"MinNumEvents\" value=\"5\"/>\n",
    "    <Threshold name=\"AbandonAfterSuccessiveFailures\" value=\"3\"/>\n",
    "  </Thresholds>\n",
    "  <Templates>\n",
    "    <Template name=\"DeviceName\" value=\"Aruba ClearPass Policy Manager @ $$SOURCE_ADDRESS$$\"/>\n",
    "    <Template name=\"DeviceDescription\" value=\"Aruba ClearPass Policy Manager Device\"/>\n",
    "  </Templates>\n",
    " </DSM>\n",
    "</DSMs>\"\"\"\n",
    "\n",
    "with open('data.xml', 'w') as f:\n",
    "    f.write(xml)\n",
    "\n",
    "\n",
    "import xml.etree.ElementTree as ET\n",
    "tree = ET.parse('data.xml')\n",
    "root = tree.getroot()\n",
    "\n",
    "ta_dsms = []\n",
    "for level1 in root:\n",
    "    d = {}\n",
    "    if level1.tag == 'DSM':\n",
    "        for k,v in level1.attrib.items():\n",
    "            d[k] = v\n",
    "            \n",
    "            for level2 in level1:\n",
    "                threshold_list = []\n",
    "                if level2.tag == \"Thresholds\":\n",
    "                    for c in level2.getchildren():\n",
    "                        threshold_dic = {}\n",
    "                        for k,v in c.attrib.items():\n",
    "                            threshold_dic[k] = v\n",
    "                        threshold_list.append(threshold_dic)\n",
    "                    d[\"Thresholds\"] = threshold_list\n",
    "                template_list = []\n",
    "                if level2.tag == \"Templates\":\n",
    "                    for c in level2.getchildren():\n",
    "                        template_dic = {}\n",
    "                        for k,v in c.attrib.items():\n",
    "                            template_dic[k] = v\n",
    "                        template_list.append(template_dic)\n",
    "                    d[\"Templates\"] = template_list\n",
    "        ta_dsms.append(d)\n",
    "                        \n",
    "                                      \n",
    "print(ta_dsms)"
   ]
  },
  {
   "cell_type": "code",
   "execution_count": null,
   "metadata": {
    "collapsed": true
   },
   "outputs": [],
   "source": []
  }
 ],
 "metadata": {
  "kernelspec": {
   "display_name": "Python 3",
   "language": "python",
   "name": "python3"
  },
  "language_info": {
   "codemirror_mode": {
    "name": "ipython",
    "version": 3
   },
   "file_extension": ".py",
   "mimetype": "text/x-python",
   "name": "python",
   "nbconvert_exporter": "python",
   "pygments_lexer": "ipython3",
   "version": "3.6.3"
  }
 },
 "nbformat": 4,
 "nbformat_minor": 2
}
