{
 "cells": [
  {
   "cell_type": "code",
   "execution_count": 9,
   "metadata": {},
   "outputs": [
    {
     "name": "stdout",
     "output_type": "stream",
     "text": [
      "[<selenium.webdriver.firefox.webelement.FirefoxWebElement (session=\"20bd05b8-c2c7-4d8e-82c9-0aa03ba18b82\", element=\"a532bafb-9628-4c46-b871-c2b13ab5106c\")>, <selenium.webdriver.firefox.webelement.FirefoxWebElement (session=\"20bd05b8-c2c7-4d8e-82c9-0aa03ba18b82\", element=\"04b987de-8104-4eed-9409-b4ba64250aa5\")>, <selenium.webdriver.firefox.webelement.FirefoxWebElement (session=\"20bd05b8-c2c7-4d8e-82c9-0aa03ba18b82\", element=\"ca7fffa8-245e-46ee-876d-e1978fe9221f\")>, <selenium.webdriver.firefox.webelement.FirefoxWebElement (session=\"20bd05b8-c2c7-4d8e-82c9-0aa03ba18b82\", element=\"cd6d2ba1-685e-4111-8c90-712b08262af8\")>, <selenium.webdriver.firefox.webelement.FirefoxWebElement (session=\"20bd05b8-c2c7-4d8e-82c9-0aa03ba18b82\", element=\"e35319e3-0a11-41fc-b75a-064071e014a6\")>, <selenium.webdriver.firefox.webelement.FirefoxWebElement (session=\"20bd05b8-c2c7-4d8e-82c9-0aa03ba18b82\", element=\"6d6c096e-479b-4d4c-89b4-e5a4de5df986\")>, <selenium.webdriver.firefox.webelement.FirefoxWebElement (session=\"20bd05b8-c2c7-4d8e-82c9-0aa03ba18b82\", element=\"bc0a6a20-b2e5-468b-9b0d-995ec6996def\")>, <selenium.webdriver.firefox.webelement.FirefoxWebElement (session=\"20bd05b8-c2c7-4d8e-82c9-0aa03ba18b82\", element=\"6e4d80b2-ed99-4ab9-89a1-6715db7a8548\")>, <selenium.webdriver.firefox.webelement.FirefoxWebElement (session=\"20bd05b8-c2c7-4d8e-82c9-0aa03ba18b82\", element=\"7c417fc0-f2a6-4315-95d1-504e0c181e1d\")>, <selenium.webdriver.firefox.webelement.FirefoxWebElement (session=\"20bd05b8-c2c7-4d8e-82c9-0aa03ba18b82\", element=\"ef9e98c9-7131-4b00-89c5-ca554938b172\")>, <selenium.webdriver.firefox.webelement.FirefoxWebElement (session=\"20bd05b8-c2c7-4d8e-82c9-0aa03ba18b82\", element=\"b7493f6c-1d41-46df-a5b8-dcd26b27c2bd\")>]\n"
     ]
    },
    {
     "data": {
      "text/plain": [
       "[<selenium.webdriver.firefox.webelement.FirefoxWebElement (session=\"20bd05b8-c2c7-4d8e-82c9-0aa03ba18b82\", element=\"a532bafb-9628-4c46-b871-c2b13ab5106c\")>,\n",
       " <selenium.webdriver.firefox.webelement.FirefoxWebElement (session=\"20bd05b8-c2c7-4d8e-82c9-0aa03ba18b82\", element=\"04b987de-8104-4eed-9409-b4ba64250aa5\")>,\n",
       " <selenium.webdriver.firefox.webelement.FirefoxWebElement (session=\"20bd05b8-c2c7-4d8e-82c9-0aa03ba18b82\", element=\"ca7fffa8-245e-46ee-876d-e1978fe9221f\")>,\n",
       " <selenium.webdriver.firefox.webelement.FirefoxWebElement (session=\"20bd05b8-c2c7-4d8e-82c9-0aa03ba18b82\", element=\"cd6d2ba1-685e-4111-8c90-712b08262af8\")>,\n",
       " <selenium.webdriver.firefox.webelement.FirefoxWebElement (session=\"20bd05b8-c2c7-4d8e-82c9-0aa03ba18b82\", element=\"e35319e3-0a11-41fc-b75a-064071e014a6\")>,\n",
       " <selenium.webdriver.firefox.webelement.FirefoxWebElement (session=\"20bd05b8-c2c7-4d8e-82c9-0aa03ba18b82\", element=\"6d6c096e-479b-4d4c-89b4-e5a4de5df986\")>,\n",
       " <selenium.webdriver.firefox.webelement.FirefoxWebElement (session=\"20bd05b8-c2c7-4d8e-82c9-0aa03ba18b82\", element=\"bc0a6a20-b2e5-468b-9b0d-995ec6996def\")>,\n",
       " <selenium.webdriver.firefox.webelement.FirefoxWebElement (session=\"20bd05b8-c2c7-4d8e-82c9-0aa03ba18b82\", element=\"6e4d80b2-ed99-4ab9-89a1-6715db7a8548\")>,\n",
       " <selenium.webdriver.firefox.webelement.FirefoxWebElement (session=\"20bd05b8-c2c7-4d8e-82c9-0aa03ba18b82\", element=\"7c417fc0-f2a6-4315-95d1-504e0c181e1d\")>,\n",
       " <selenium.webdriver.firefox.webelement.FirefoxWebElement (session=\"20bd05b8-c2c7-4d8e-82c9-0aa03ba18b82\", element=\"ef9e98c9-7131-4b00-89c5-ca554938b172\")>,\n",
       " <selenium.webdriver.firefox.webelement.FirefoxWebElement (session=\"20bd05b8-c2c7-4d8e-82c9-0aa03ba18b82\", element=\"b7493f6c-1d41-46df-a5b8-dcd26b27c2bd\")>]"
      ]
     },
     "execution_count": 9,
     "metadata": {},
     "output_type": "execute_result"
    }
   ],
   "source": [
    "from selenium import webdriver\n",
    "from selenium.webdriver.common.by import By\n",
    "from selenium.webdriver.support.ui import WebDriverWait # available since 2.4.0\n",
    "from selenium.webdriver.support import expected_conditions as EC # available since 2.26.0\n",
    "\n",
    "url = \"http://www.seaaroundus.org/data/#/eez/8/exploited-organisms\"\n",
    "driver = webdriver.Firefox()\n",
    "driver.get(url)\n",
    "try:\n",
    "    element = WebDriverWait(driver, 10).until(EC.presence_of_all_elements_located((By.CLASS_NAME, \"ui-grid-row\")))\n",
    "    options = driver.find_elements_by_class_name(\"ui-grid-row\")\n",
    "    print(options)\n",
    "finally:\n",
    "    driver.quit()\n",
    "\n",
    "element"
   ]
  },
  {
   "cell_type": "code",
   "execution_count": 14,
   "metadata": {},
   "outputs": [
    {
     "name": "stdout",
     "output_type": "stream",
     "text": [
      "Angel sharks (Squatinidae)\n",
      "Angelshark (Squatina squatina)\n",
      "Atlantic bluefin tuna (Thunnus thynnus)\n",
      "Atlantic bonito (Sarda sarda)\n",
      "Atlantic pomfret (Brama brama)\n",
      "Blackmouth catshark (Galeus melastomus)\n",
      "Blue and red shrimp (Aristeus antennatus)\n",
      "Blue shark (Prionace glauca)\n",
      "Blue whiting (Micromesistius poutassou)\n",
      "Bluntnose sixgill shark (Hexanchus griseus)\n",
      "Bogue (Boops boops)\n"
     ]
    }
   ],
   "source": [
    "from selenium import webdriver\n",
    "import time\n",
    "\n",
    "url = \"http://www.seaaroundus.org/data/#/eez/8/exploited-organisms\"\n",
    "driver = webdriver.Firefox()\n",
    "driver.get(url)\n",
    "time.sleep(8)\n",
    "options = driver.find_elements_by_class_name(\"ui-grid-row\")\n",
    "\n",
    "for o in options:\n",
    "    print(o.text)"
   ]
  },
  {
   "cell_type": "code",
   "execution_count": null,
   "metadata": {
    "collapsed": true
   },
   "outputs": [],
   "source": []
  }
 ],
 "metadata": {
  "kernelspec": {
   "display_name": "Python 3",
   "language": "python",
   "name": "python3"
  },
  "language_info": {
   "codemirror_mode": {
    "name": "ipython",
    "version": 3
   },
   "file_extension": ".py",
   "mimetype": "text/x-python",
   "name": "python",
   "nbconvert_exporter": "python",
   "pygments_lexer": "ipython3",
   "version": "3.6.3"
  }
 },
 "nbformat": 4,
 "nbformat_minor": 2
}
