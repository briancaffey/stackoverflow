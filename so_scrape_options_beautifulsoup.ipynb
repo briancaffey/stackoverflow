{
 "cells": [
  {
   "cell_type": "code",
   "execution_count": 1,
   "metadata": {},
   "outputs": [
    {
     "name": "stdout",
     "output_type": "stream",
     "text": [
      "\n",
      "660654030868\n",
      "\n",
      "Prod Name: VARSITY OVO POLARTEC® HALF-ZIP PULLOVER - BLACK\n",
      "\n",
      "Price: \n",
      "            $138.00\n",
      "          \n",
      "\n",
      "Matching Variant Value: 660654030868\n"
     ]
    }
   ],
   "source": [
    "import requests, re, json, time, sys, os,webbrowser\n",
    "import subprocess as s\n",
    "from bs4 import BeautifulSoup as bs\n",
    "global size\n",
    "\n",
    "size = \"Medium\"\n",
    "\n",
    "html  = \"\"\"<option selected=\"selected\" data-sku=\"51728-003\" value=\"660654030868\">Medium - $138.00 USD</option>\"\"\"\n",
    "\n",
    "url = \"https://us.octobersveryown.com/collections/shop-all/products/varsity-ovo-polartec-half-zip-pullover-black\"\n",
    "\n",
    "def getStuff():\n",
    "    print ('')\n",
    "    session = requests.session()\n",
    "    response = session.get(url)\n",
    "    soup = bs(response.text, 'html.parser')\n",
    "    prod_name = soup.find('h1',{'itemprop':'name'}).text\n",
    "    price = soup.find('span',{'id':'ProductPrice'}).text\n",
    "    #variant = soup.find(text=size).findPrevious('value').text\n",
    "    def get_option(size):\n",
    "        options = soup.find_all('option')\n",
    "        target_option = [o for o in options if size in o.text][0]\n",
    "        value = target_option['value']\n",
    "        return value\n",
    "    variant = get_option(size)\n",
    "    print(get_option(size))\n",
    "    #variant =\"notworking\"\n",
    "    print(\"\\nProd Name: \"+prod_name)\n",
    "    print(\"\\nPrice: \"+price)\n",
    "    print(\"\\nMatching Variant Value: \"+variant)\n",
    "\n",
    "getStuff()"
   ]
  },
  {
   "cell_type": "code",
   "execution_count": null,
   "metadata": {
    "collapsed": true
   },
   "outputs": [],
   "source": []
  }
 ],
 "metadata": {
  "kernelspec": {
   "display_name": "Python 3",
   "language": "python",
   "name": "python3"
  },
  "language_info": {
   "codemirror_mode": {
    "name": "ipython",
    "version": 3
   },
   "file_extension": ".py",
   "mimetype": "text/x-python",
   "name": "python",
   "nbconvert_exporter": "python",
   "pygments_lexer": "ipython3",
   "version": "3.6.3"
  }
 },
 "nbformat": 4,
 "nbformat_minor": 2
}
