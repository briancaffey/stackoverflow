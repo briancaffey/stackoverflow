{
 "cells": [
  {
   "cell_type": "code",
   "execution_count": 1,
   "metadata": {
    "collapsed": true
   },
   "outputs": [],
   "source": [
    "data = \"\"\"ID 1 Na 2 SK 3\n",
    "\n",
    "ID 2 Na 4 SK 3\n",
    "\n",
    "ID 3 Na 6 SK 6\"\"\""
   ]
  },
  {
   "cell_type": "code",
   "execution_count": 6,
   "metadata": {},
   "outputs": [
    {
     "data": {
      "text/plain": [
       "['ID',\n",
       " '1',\n",
       " 'Na',\n",
       " '2',\n",
       " 'SK',\n",
       " '3ID',\n",
       " '2',\n",
       " 'Na',\n",
       " '4',\n",
       " 'SK',\n",
       " '3ID',\n",
       " '3',\n",
       " 'Na',\n",
       " '6',\n",
       " 'SK',\n",
       " '6']"
      ]
     },
     "execution_count": 6,
     "metadata": {},
     "output_type": "execute_result"
    }
   ],
   "source": [
    "values = \"\".join(data.split(\"\\n\"))\n",
    "values.split(\" \")"
   ]
  },
  {
   "cell_type": "code",
   "execution_count": null,
   "metadata": {
    "collapsed": true
   },
   "outputs": [],
   "source": []
  }
 ],
 "metadata": {
  "kernelspec": {
   "display_name": "Python 3",
   "language": "python",
   "name": "python3"
  },
  "language_info": {
   "codemirror_mode": {
    "name": "ipython",
    "version": 3
   },
   "file_extension": ".py",
   "mimetype": "text/x-python",
   "name": "python",
   "nbconvert_exporter": "python",
   "pygments_lexer": "ipython3",
   "version": "3.6.3"
  }
 },
 "nbformat": 4,
 "nbformat_minor": 2
}
