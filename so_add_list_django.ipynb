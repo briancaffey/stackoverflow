{
 "cells": [
  {
   "cell_type": "code",
   "execution_count": 37,
   "metadata": {},
   "outputs": [],
   "source": [
    "lis = [\n",
    "{'price': 45.00, 'total': '1L', 'quantity': 1},\n",
    "{'price': 45.00, 'total': '1L', 'quantity': 1},\n",
    "{'price': 45.00, 'total': '2L', 'quantity': 1},\n",
    "{'price': 40.00, 'total': '1L', 'quantity': 1},\n",
    "{'price': 40.00, 'total': '1L', 'quantity': 1},\n",
    "{'price': 49.00, 'total': '1L', 'quantity': 1},\n",
    "]"
   ]
  },
  {
   "cell_type": "code",
   "execution_count": 38,
   "metadata": {},
   "outputs": [
    {
     "name": "stdout",
     "output_type": "stream",
     "text": [
      "[{'price': 180.0, 'total': 4, 'quantity': 1}, {'price': 80.0, 'total': 2, 'quantity': 1}, {'price': 49.0, 'total': 1, 'quantity': 1}]\n"
     ]
    }
   ],
   "source": [
    "from collections import defaultdict\n",
    "results = defaultdict(lambda: {'price':0, 'total':0, 'quantity':1})\n",
    "for i in lis:\n",
    "    results[i['price']]['price'] += i['price']*int(i['total'].strip('L'))\n",
    "    results[i['price']]['total'] += int(i['total'].strip('L'))\n",
    "    \n",
    "print(list(results.values()))"
   ]
  },
  {
   "cell_type": "code",
   "execution_count": 29,
   "metadata": {},
   "outputs": [
    {
     "data": {
      "text/plain": [
       "defaultdict(<function __main__.<lambda>>,\n",
       "            {40.0: {'price': 80.0, 'quantity': 1, 'total': 2},\n",
       "             45.0: {'price': 180.0, 'quantity': 1, 'total': 4},\n",
       "             49.0: {'price': 49.0, 'quantity': 1, 'total': 1}})"
      ]
     },
     "execution_count": 29,
     "metadata": {},
     "output_type": "execute_result"
    }
   ],
   "source": [
    "results"
   ]
  }
 ],
 "metadata": {
  "kernelspec": {
   "display_name": "Python 3",
   "language": "python",
   "name": "python3"
  },
  "language_info": {
   "codemirror_mode": {
    "name": "ipython",
    "version": 3
   },
   "file_extension": ".py",
   "mimetype": "text/x-python",
   "name": "python",
   "nbconvert_exporter": "python",
   "pygments_lexer": "ipython3",
   "version": "3.6.3"
  }
 },
 "nbformat": 4,
 "nbformat_minor": 2
}
